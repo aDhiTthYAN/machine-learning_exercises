{
  "nbformat": 4,
  "nbformat_minor": 0,
  "metadata": {
    "colab": {
      "provenance": []
    },
    "kernelspec": {
      "name": "python3",
      "display_name": "Python 3"
    },
    "language_info": {
      "name": "python"
    }
  },
  "cells": [
    {
      "cell_type": "markdown",
      "source": [
        "# **ML - Task2 - Hypothesis testing**\n",
        "* **Q1.Suppose a child psychologist claims that the average time working mothers spend talking to their children is at least 11 minutes per day. You conduct a random sample of 1000 working mothers and find they spend an average of 11.5 minutes per day talking with their children. Assume prior research suggests the population standard deviation is 2.3 minutes.Conduct a test with a level of significance of alpha = 0.05**"
      ],
      "metadata": {
        "id": "NyozQrjlO3hD"
      }
    },
    {
      "cell_type": "markdown",
      "source": [
        "# **Null Hypothesis**\n",
        "**Ho = μ ≤ 11 minutes**\n",
        "\n",
        "# **Alternative Hypothesis**\n",
        "**Ha = μ > 11 minutes**\n",
        "\n",
        "**x̄ = 11.5 minutes**\n",
        "\n",
        "**n = 1000**\n",
        "\n",
        "**σ = 2.3 minutes**\n",
        "\n",
        "**α = 0.05**"
      ],
      "metadata": {
        "id": "p5s6YH2_H4Fs"
      }
    },
    {
      "cell_type": "code",
      "source": [
        "import math\n",
        "\n",
        "\n",
        "\n"
      ],
      "metadata": {
        "id": "P_jnIiv2TTdI"
      },
      "execution_count": null,
      "outputs": []
    },
    {
      "cell_type": "code",
      "execution_count": null,
      "metadata": {
        "id": "z4RereAsKkkn"
      },
      "outputs": [],
      "source": [
        "alpha = 0.05"
      ]
    },
    {
      "cell_type": "code",
      "source": [
        "std = 2.3"
      ],
      "metadata": {
        "id": "A_EhbBGNPjn8"
      },
      "execution_count": null,
      "outputs": []
    },
    {
      "cell_type": "code",
      "source": [
        "n =1000"
      ],
      "metadata": {
        "id": "hdwDbfF9PnYY"
      },
      "execution_count": null,
      "outputs": []
    },
    {
      "cell_type": "code",
      "source": [
        "n_mean = 11.5"
      ],
      "metadata": {
        "id": "OOUT74sqPqkn"
      },
      "execution_count": null,
      "outputs": []
    },
    {
      "cell_type": "code",
      "source": [
        "populataion_mean =11"
      ],
      "metadata": {
        "id": "u4Dyx0N0RCyQ"
      },
      "execution_count": null,
      "outputs": []
    },
    {
      "cell_type": "code",
      "source": [
        "#Hypothesis testing\n",
        "\n",
        "z_test = (n_mean - populataion_mean) / (std/math.sqrt(n))"
      ],
      "metadata": {
        "id": "MWWhLm6aRbRn"
      },
      "execution_count": null,
      "outputs": []
    },
    {
      "cell_type": "code",
      "source": [
        "z_test"
      ],
      "metadata": {
        "colab": {
          "base_uri": "https://localhost:8080/"
        },
        "id": "okSfSo4PRfIM",
        "outputId": "53af9f7b-2980-452f-f3f6-8ac2b3943ed6"
      },
      "execution_count": null,
      "outputs": [
        {
          "output_type": "execute_result",
          "data": {
            "text/plain": [
              "6.874516652539955"
            ]
          },
          "metadata": {},
          "execution_count": 17
        }
      ]
    },
    {
      "cell_type": "code",
      "source": [
        "import scipy.stats as st\n",
        "\n",
        "\n",
        "alpha = 0.05\n",
        "\n",
        "\n",
        "z_critical = st.norm.ppf(1 - alpha)\n",
        "\n",
        "print(\"Critical value:\", z_critical)\n",
        "\n",
        "\n",
        "\n"
      ],
      "metadata": {
        "colab": {
          "base_uri": "https://localhost:8080/"
        },
        "id": "PU6e1ITFF0EW",
        "outputId": "eb111bd6-622f-4979-f8f7-1514484d0e96"
      },
      "execution_count": null,
      "outputs": [
        {
          "output_type": "stream",
          "name": "stdout",
          "text": [
            "Critical value: 1.6448536269514722\n"
          ]
        }
      ]
    },
    {
      "cell_type": "markdown",
      "source": [
        "#**conclusion**\n",
        "*  **The z test value is greater than the critical value so we reject the null hypothesis and conclude that the working mother spend more than 11 minutes talking with their children per day**"
      ],
      "metadata": {
        "id": "GwWgPetCHde8"
      }
    },
    {
      "cell_type": "markdown",
      "source": [
        "* **Q2. A coffee shop claims that their average wait time for customers is less than 5 minutes. To test this claim, a sample of 40 customers is taken, and their wait times are recorded. The sample mean wait time is found to be 4.6 minutes with a standard deviation of 0.8 minutes. Perform a hypothesis test at a significance level of 0.05 and determine whether there is enough evidence to support the coffee shop's claim**"
      ],
      "metadata": {
        "id": "dbGK2cXsWfRx"
      }
    },
    {
      "cell_type": "markdown",
      "source": [
        "# **Null Hypothesis**\n",
        "\n",
        "Ho = μ ≥ 5 minutes\n",
        "\n",
        "# **Alternative Hypothesis**\n",
        "\n",
        "Ha = μ < 5 minutes\n",
        "\n",
        "Sample mean(x̄) = 4.6 minutes\n",
        "\n",
        "Sample size(n) = 40\n",
        "\n",
        "Sample Standard deviation(σ) = 0.8 minutes\n",
        "\n",
        "Population mean(μ) = 5 minutes\n",
        "\n",
        "Significance level(α) = 0.05(5%)\n",
        "\n",
        "Degree of freedom(n-1) = 39"
      ],
      "metadata": {
        "id": "KppfMaW_db8D"
      }
    },
    {
      "cell_type": "code",
      "source": [
        "population_tmean = 5"
      ],
      "metadata": {
        "id": "iRLETVRkTaU6"
      },
      "execution_count": null,
      "outputs": []
    },
    {
      "cell_type": "code",
      "source": [
        "sample_tmean =4.6"
      ],
      "metadata": {
        "id": "iqw11AvSPpKC"
      },
      "execution_count": null,
      "outputs": []
    },
    {
      "cell_type": "code",
      "source": [
        "sample_size = 40"
      ],
      "metadata": {
        "id": "iMbXTi0gPtjK"
      },
      "execution_count": null,
      "outputs": []
    },
    {
      "cell_type": "code",
      "source": [
        "std_t = 0.8"
      ],
      "metadata": {
        "id": "NWACDGXGPwca"
      },
      "execution_count": null,
      "outputs": []
    },
    {
      "cell_type": "code",
      "source": [
        "alpha = 0.05"
      ],
      "metadata": {
        "id": "02KNcDoZPzki"
      },
      "execution_count": null,
      "outputs": []
    },
    {
      "cell_type": "markdown",
      "source": [
        "\n",
        "* **The t-test is used in this case because we are comparing the mean of a sample (the average wait time of customers in the coffee shop) to a known or hypothesized population mean (5 minutes) when the population standard deviation is unknown.**"
      ],
      "metadata": {
        "id": "1gDg9k16QfJQ"
      }
    },
    {
      "cell_type": "code",
      "source": [
        "t_test =  (sample_tmean - population_tmean) / (0.8/math.sqrt(sample_size))"
      ],
      "metadata": {
        "id": "k7KxC8-MP1_Z"
      },
      "execution_count": null,
      "outputs": []
    },
    {
      "cell_type": "code",
      "source": [
        "t_test"
      ],
      "metadata": {
        "colab": {
          "base_uri": "https://localhost:8080/"
        },
        "id": "5bd8-E-eRBj2",
        "outputId": "68dfd400-e0bb-471b-9af2-2458a4dc0aa4"
      },
      "execution_count": null,
      "outputs": [
        {
          "output_type": "execute_result",
          "data": {
            "text/plain": [
              "-3.162277660168382"
            ]
          },
          "metadata": {},
          "execution_count": 13
        }
      ]
    },
    {
      "cell_type": "code",
      "source": [
        "from scipy.stats import t\n",
        "\n",
        "# Degrees of freedom\n",
        "df = 40 - 1  # Sample size minus 1\n",
        "\n",
        "\n",
        "alpha = 0.05\n",
        "\n",
        "# Find critical value\n",
        "t_critical = t.ppf(1 - alpha, df)\n",
        "\n",
        "print(\"Critical value:\", t_critical)"
      ],
      "metadata": {
        "colab": {
          "base_uri": "https://localhost:8080/"
        },
        "id": "qAcyQlSqRPMG",
        "outputId": "69c91c9f-f5c4-46c3-b54d-9b69166e7d1b"
      },
      "execution_count": null,
      "outputs": [
        {
          "output_type": "stream",
          "name": "stdout",
          "text": [
            "Critical value: 1.6848751194973992\n"
          ]
        }
      ]
    },
    {
      "cell_type": "markdown",
      "source": [
        "**Conclusion:** The calculated t-value (−3.1623) is less than the critical value (\n",
        "1.68491). Therefore, we reject the null hypothesis. There is enough evidence to support the coffee shop's claim that their average wait time for customers is less than 5 minutes.\n",
        "\n",
        "\n",
        "\n",
        "\n",
        "\n",
        "\n"
      ],
      "metadata": {
        "id": "x8CCBsgISG_S"
      }
    },
    {
      "cell_type": "code",
      "source": [],
      "metadata": {
        "id": "QYhY-OaARuyi"
      },
      "execution_count": null,
      "outputs": []
    }
  ]
}